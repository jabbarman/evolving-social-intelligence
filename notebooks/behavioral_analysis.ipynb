{
  "cells": [
    {
      "cell_type": "markdown",
      "id": "3efdf52fdddc310c",
      "metadata": {},
      "source": [
        "# Behavioral Metrics Exploration\n",
        "\n",
        "Use this notebook to explore the behavioral metrics and lineage statistics captured during a simulation run. Adjust the file paths if you save logs elsewhere."
      ]
    },
    {
      "cell_type": "code",
      "execution_count": null,
      "id": "a3f29aa61c0fa181",
      "metadata": {
        "ExecuteTime": {
          "end_time": "2025-10-29T14:36:13.880280Z",
          "start_time": "2025-10-29T14:36:13.877911Z"
        }
      },
      "outputs": [],
      "source": []
    },
    {
      "cell_type": "code",
      "execution_count": 2,
      "id": "557640e2d7c1094c",
      "metadata": {
        "ExecuteTime": {
          "end_time": "2025-10-29T14:36:13.976850Z",
          "start_time": "2025-10-29T14:36:13.915518Z"
        }
      },
      "outputs": [
        {
          "name": "stdout",
          "output_type": "stream",
          "text": [
            "Loaded metrics keys: ['timesteps', 'population', 'births', 'deaths', 'mean_energy', 'mean_age', 'max_age', 'total_food', 'mean_distance_per_step', 'std_distance_per_step'] ...\n",
            "Loaded 101 lineage snapshots.\n"
          ]
        }
      ],
      "source": [
        "import json\n",
        "from pathlib import Path\n",
        "\n",
        "logs_dir = Path(\"../experiments/logs\")\n",
        "metrics_path = logs_dir / \"metrics.npz\"\n",
        "lineage_stats_path = logs_dir / \"lineage_stats.json\"\n",
        "\n",
        "if metrics_path.exists():\n",
        "    metrics = json.loads(metrics_path.read_text())\n",
        "    print(f\"Loaded metrics keys: {list(metrics.keys())[:10]} ...\")\n",
        "else:\n",
        "    print(\"Run a simulation to generate metrics.npz first.\")\n",
        "\n",
        "if lineage_stats_path.exists():\n",
        "    lineage_stats = json.loads(lineage_stats_path.read_text())\n",
        "    print(f\"Loaded {len(lineage_stats)} lineage snapshots.\")\n",
        "else:\n",
        "    print(\"Run a simulation with lineage tracking enabled to generate lineage_stats.json.\")"
      ]
    },
    {
      "cell_type": "code",
      "execution_count": null,
      "id": "f19a8ea7-2e08-420c-9965-f9a1c95acb76",
      "metadata": {},
      "outputs": [],
      "source": []
    }
  ],
  "metadata": {
    "kernelspec": {
      "display_name": "Python 3.13 (ESI venv)",
      "language": "python",
      "name": "esi-py313"
    },
    "language_info": {
      "codemirror_mode": {
        "name": "ipython",
        "version": 3
      },
      "file_extension": ".py",
      "mimetype": "text/x-python",
      "name": "python",
      "nbconvert_exporter": "python",
      "pygments_lexer": "ipython3",
      "version": "3.13.5"
    }
  },
  "nbformat": 4,
  "nbformat_minor": 5
}